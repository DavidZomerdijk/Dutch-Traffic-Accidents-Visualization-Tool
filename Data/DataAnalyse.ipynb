{
 "cells": [
  {
   "cell_type": "markdown",
   "metadata": {
    "collapsed": true
   },
   "source": [
    "# Data Analyse verkeersongelukken"
   ]
  },
  {
   "cell_type": "code",
   "execution_count": 1,
   "metadata": {
    "collapsed": true
   },
   "outputs": [],
   "source": [
    "import pickle\n",
    "import pandas as pd\n",
    "from Converter import *\n",
    "import numpy as np"
   ]
  },
  {
   "cell_type": "code",
   "execution_count": 6,
   "metadata": {
    "collapsed": false
   },
   "outputs": [
    {
     "name": "stdout",
     "output_type": "stream",
     "text": [
      "<class 'float'>\n"
     ]
    }
   ],
   "source": [
    "converter = Converter()\n",
    "\n",
    "## Test (Rotterdam Centraal)\n",
    "print(type( converter.toLat(91819, 437802)))\n",
    "#print(converter.toLon(91819, 437802))"
   ]
  },
  {
   "cell_type": "code",
   "execution_count": 15,
   "metadata": {
    "collapsed": false
   },
   "outputs": [],
   "source": [
    "data =pickle.load( open( \"verkeersOngelukkenNederland.p\", \"rb\" ) )"
   ]
  },
  {
   "cell_type": "code",
   "execution_count": 95,
   "metadata": {
    "collapsed": false,
    "scrolled": false
   },
   "outputs": [
    {
     "name": "stdout",
     "output_type": "stream",
     "text": [
      "['index_x', 'VKL_NUMMER', 'REGNUMMER', 'PVOPGEM', 'DATUM_VKL', 'DAG_CODE', 'MND_NUMMER', 'JAAR_VKL', 'TIJDSTIP', 'UUR', 'DDL_ID', 'AP3_CODE', 'AP4_CODE', 'AP5_CODE', 'ANTL_SLA', 'ANTL_DOD', 'ANTL_GZH', 'ANTL_SEH', 'ANTL_GOV', 'ANTL_PTJ', 'ANTL_TDT', 'MNE_CODE', 'AOL_ID', 'NIVEAUKOP', 'WSE_ID', 'WSE_AN', 'BEBKOM', 'MAXSNELHD', 'WVL_ID', 'WVG_ID', 'WVG_AN', 'WDK_ID', 'WDK_AN', 'LGD_ID', 'ZAD_ID', 'WGD_CODE_1', 'WGD_CODE_2', 'BZD_ID_VM1', 'BZD_ID_VM2', 'BZD_ID_VM3', 'BZD_VM_AN', 'BZD_ID_IF1', 'BZD_ID_IF2', 'BZD_ID_IF3', 'BZD_IF_AN', 'BZD_ID_TA1', 'BZD_ID_TA2', 'BZD_ID_TA3', 'BZD_TA_AN', 'JTE_ID', 'WVK_ID', 'HECTOMETER', 'FK_VELD5', 'HUISNUMMER', 'GME_ID', 'GME_NAAM', 'PVE_CODE', 'PVE_NAAM', 'KDD_NAAM', 'PLT_NAAM', 'BSD_NAAM', 'WTM_NAAM', 'WTP_NAAM', 'WIK_NAAM', 'index_y', 'X_COORD', 'Y_COORD', 'lat', 'lon']\n"
     ]
    },
    {
     "name": "stderr",
     "output_type": "stream",
     "text": [
      "/Users/davidzomerdijk/anaconda/lib/python3.5/site-packages/ipykernel/__main__.py:3: UserWarning: Boolean Series key will be reindexed to match DataFrame index.\n",
      "  app.launch_new_instance()\n"
     ]
    }
   ],
   "source": [
    "print(list(data))\n",
    "data.head(1000)\n",
    "Noord_Holland = data[ data[\"PVE_NAAM\"] == \"Noord-Holland\"][ data[\"JAAR_VKL\"] == 2009 ]\n",
    "#Noord_Holland = Noord_Holland[  Noord_Holland[\"JAAR_VKL\"] == 2009]\n",
    "#smallData = data.head(10)"
   ]
  },
  {
   "cell_type": "code",
   "execution_count": 86,
   "metadata": {
    "collapsed": false,
    "scrolled": false
   },
   "outputs": [
    {
     "name": "stderr",
     "output_type": "stream",
     "text": [
      "/Users/davidzomerdijk/anaconda/lib/python3.5/site-packages/ipykernel/__main__.py:3: FutureWarning: sort(columns=....) is deprecated, use sort_values(by=.....)\n",
      "  app.launch_new_instance()\n"
     ]
    },
    {
     "name": "stdout",
     "output_type": "stream",
     "text": [
      "[{'Number_of_accidents': 52, 'bounds': [[52.372634220999998, 4.8969108979999998], [52.379480141000002, 4.8970284360000003]]}, {'Number_of_accidents': 27, 'bounds': [[52.386232057999997, 4.6474883130000002], [52.439232914000002, 4.6485885170000003]]}, {'Number_of_accidents': 19, 'bounds': [[52.346635829999997, 4.8971300600000003], [52.373131966999999, 4.8975434470000003]]}, {'Number_of_accidents': 16, 'bounds': [[52.296370989000003, 4.6859503829999998], [52.301124526999999, 4.6860599860000001]]}, {'Number_of_accidents': 16, 'bounds': [[52.373077045999999, 4.8975978119999999], [52.373077045999999, 4.8975978119999999]]}, {'Number_of_accidents': 15, 'bounds': [[52.348233577000002, 4.9189506070000002], [52.389628721000001, 4.9194623230000003]]}, {'Number_of_accidents': 14, 'bounds': [[52.350570265000002, 4.655875537], [52.482061399000003, 4.6581240959999999]]}, {'Number_of_accidents': 14, 'bounds': [[52.356354441999997, 4.9099690320000002], [52.424058143000003, 4.9107456320000002]]}, {'Number_of_accidents': 14, 'bounds': [[52.329052062999999, 4.9304355729999996], [52.363609361000002, 4.9308322330000003]]}, {'Number_of_accidents': 13, 'bounds': [[52.306323523000003, 4.6518959280000001], [52.596039543000003, 4.6568266940000003]]}]\n"
     ]
    }
   ],
   "source": [
    "\n",
    "def dangerPoints(df, number_of_accidents, d=10):\n",
    "    x = df[[\"VKL_NUMMER\", \"X_COORD\", \"Y_COORD\", \"lat\", \"lon\" ]].sort([ \"X_COORD\", \"Y_COORD\" ], ascending=[1, 1]).reset_index(drop=True)\n",
    "    \n",
    "    def getDangerBounds(accidentPoints):\n",
    "        output2 = []\n",
    "        for x in accidentPoints:\n",
    "            tempDict = {}\n",
    "            tempDict[\"Number_of_accidents\"]= len(x)\n",
    "\n",
    "            lats = [p[1] for p in x] \n",
    "            longs = [p[2] for p in x] \n",
    "            tempDict[\"bounds\"] = [[min(lats), min(longs)],[max(lats), max(longs)]]\n",
    "            output2.append(tempDict)\n",
    "        return output2\n",
    "    \n",
    "    output = []\n",
    "    temp = []\n",
    "    for i in range(1,len(x.index)):\n",
    "        a = x.loc[i-1]\n",
    "        b = x.loc[i]\n",
    "        addedToTemp = False\n",
    "        \n",
    "        if b[\"X_COORD\"] - a[\"X_COORD\"] < d :\n",
    "            if b[\"Y_COORD\"] - a[\"Y_COORD\"] < d:\n",
    "                if temp == []:\n",
    "                    temp.append([a[\"VKL_NUMMER\"], a[\"lat\"], a[\"lon\"] ] )\n",
    "                temp.append( [b[\"VKL_NUMMER\"], b[\"lat\"], b[\"lon\"] ])\n",
    "                addedToTemp = True\n",
    "                \n",
    "        if not addedToTemp and temp != []:\n",
    "            output.append(temp)\n",
    "            temp = []\n",
    "    \n",
    "  \n",
    "    output.sort(key=len, reverse=True)\n",
    "\n",
    "    return getDangerBounds(output[:10])\n",
    "\n",
    "output = dangerPoints(Noord_Holland, 10) \n",
    "print(output)\n",
    "    \n",
    "    "
   ]
  },
  {
   "cell_type": "code",
   "execution_count": 81,
   "metadata": {
    "collapsed": false
   },
   "outputs": [
    {
     "name": "stdout",
     "output_type": "stream",
     "text": [
      "[{'Number_of_accidents': 52, 'bounds': [[52.372634220999998, 4.8969108979999998], [52.379480141000002, 4.8970284360000003]]}, {'Number_of_accidents': 27, 'bounds': [[52.386232057999997, 4.6474883130000002], [52.439232914000002, 4.6485885170000003]]}, {'Number_of_accidents': 19, 'bounds': [[52.346635829999997, 4.8971300600000003], [52.373131966999999, 4.8975434470000003]]}, {'Number_of_accidents': 16, 'bounds': [[52.296370989000003, 4.6859503829999998], [52.301124526999999, 4.6860599860000001]]}, {'Number_of_accidents': 16, 'bounds': [[52.373077045999999, 4.8975978119999999], [52.373077045999999, 4.8975978119999999]]}, {'Number_of_accidents': 15, 'bounds': [[52.348233577000002, 4.9189506070000002], [52.389628721000001, 4.9194623230000003]]}, {'Number_of_accidents': 14, 'bounds': [[52.350570265000002, 4.655875537], [52.482061399000003, 4.6581240959999999]]}, {'Number_of_accidents': 14, 'bounds': [[52.356354441999997, 4.9099690320000002], [52.424058143000003, 4.9107456320000002]]}, {'Number_of_accidents': 14, 'bounds': [[52.329052062999999, 4.9304355729999996], [52.363609361000002, 4.9308322330000003]]}, {'Number_of_accidents': 13, 'bounds': [[52.306323523000003, 4.6518959280000001], [52.596039543000003, 4.6568266940000003]]}, {'Number_of_accidents': 12, 'bounds': [[52.280754008000002, 4.8221733269999998], [52.668329898000003, 4.8272100440000001]]}, {'Number_of_accidents': 12, 'bounds': [[52.368848383, 4.8770811700000003], [52.422945679999998, 4.8778756400000001]]}, {'Number_of_accidents': 12, 'bounds': [[52.359363408, 4.8964211950000003], [52.403311864000003, 4.896985667]]}, {'Number_of_accidents': 12, 'bounds': [[52.378134330000002, 4.8970446909999996], [52.378134330000002, 4.8970446909999996]]}, {'Number_of_accidents': 12, 'bounds': [[52.295687669000003, 4.9380722029999999], [52.501592420999998, 4.9401617880000002]]}, {'Number_of_accidents': 11, 'bounds': [[52.549657893000003, 4.7736199350000001], [52.964225878000001, 4.7795223880000002]]}, {'Number_of_accidents': 11, 'bounds': [[52.382400478999998, 4.8030725060000004], [52.384384888, 4.8031246300000001]]}, {'Number_of_accidents': 11, 'bounds': [[52.355562571999997, 4.8497302170000003], [52.400731397999998, 4.8503070729999997]]}, {'Number_of_accidents': 11, 'bounds': [[52.364305055999999, 4.8522174839999996], [52.433259980000003, 4.8530653429999999]]}, {'Number_of_accidents': 11, 'bounds': [[52.362793924999998, 4.8704957020000004], [52.749136297, 4.8751546899999996]]}]\n"
     ]
    }
   ],
   "source": [
    "\n",
    "          \n",
    "    return output\n",
    "    \n",
    "print(getDangerBounds(output))\n",
    "    \n",
    "    "
   ]
  },
  {
   "cell_type": "code",
   "execution_count": 79,
   "metadata": {
    "collapsed": false
   },
   "outputs": [
    {
     "data": {
      "text/plain": [
       "2"
      ]
     },
     "execution_count": 79,
     "metadata": {},
     "output_type": "execute_result"
    }
   ],
   "source": [
    "a = [9,2,3,4]\n",
    "min(a)"
   ]
  },
  {
   "cell_type": "code",
   "execution_count": null,
   "metadata": {
    "collapsed": true
   },
   "outputs": [],
   "source": []
  }
 ],
 "metadata": {
  "anaconda-cloud": {},
  "kernelspec": {
   "display_name": "Python [conda root]",
   "language": "python",
   "name": "conda-root-py"
  },
  "language_info": {
   "codemirror_mode": {
    "name": "ipython",
    "version": 3
   },
   "file_extension": ".py",
   "mimetype": "text/x-python",
   "name": "python",
   "nbconvert_exporter": "python",
   "pygments_lexer": "ipython3",
   "version": "3.5.2"
  }
 },
 "nbformat": 4,
 "nbformat_minor": 0
}
